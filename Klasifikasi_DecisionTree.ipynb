{
  "nbformat": 4,
  "nbformat_minor": 0,
  "metadata": {
    "colab": {
      "name": "Klasifikasi_DecisionTree.ipynb",
      "provenance": []
    },
    "kernelspec": {
      "name": "python3",
      "display_name": "Python 3"
    },
    "language_info": {
      "name": "python"
    }
  },
  "cells": [
    {
      "cell_type": "code",
      "metadata": {
        "id": "BTCdDuEOHWPz"
      },
      "source": [
        "import numpy as np\n",
        "import pandas as pd\n",
        "from sklearn import tree"
      ],
      "execution_count": 1,
      "outputs": []
    },
    {
      "cell_type": "code",
      "metadata": {
        "id": "SjBnYGo-Ia6t"
      },
      "source": [
        "udaraDataset = pd.read_csv('Indeks_pencemaran_udara.csv', \n",
        "                          delimiter=',', header = 0)"
      ],
      "execution_count": 16,
      "outputs": []
    },
    {
      "cell_type": "code",
      "metadata": {
        "id": "Yj1-LDCUIiRu"
      },
      "source": [
        "udaraDataset[\"categori\"] = pd.factorize(udaraDataset.categori)[0]\n",
        "udaraDataset = udaraDataset.drop(labels=\"tanggal\", axis = 1)\n",
        "udaraDataset = udaraDataset.to_numpy()"
      ],
      "execution_count": 17,
      "outputs": []
    },
    {
      "cell_type": "code",
      "metadata": {
        "id": "E8ZMzLGlIvnU"
      },
      "source": [
        "dataTraining = np.concatenate((udaraDataset[0:40,:],\n",
        "                               udaraDataset[50:90,:]), axis=0)\n",
        "dataTesting = np.concatenate((udaraDataset[40:50,:],\n",
        "                             udaraDataset[90:100,:]), axis=0)\n",
        "inputTraining = dataTraining[:,0:6]\n",
        "inputTesting = dataTesting[:,0:6]\n",
        "labelTraining = dataTraining[:,6]\n",
        "labelTesting = dataTesting[:,6]"
      ],
      "execution_count": 18,
      "outputs": []
    },
    {
      "cell_type": "code",
      "metadata": {
        "colab": {
          "base_uri": "https://localhost:8080/"
        },
        "id": "VxaKgFp_JFnB",
        "outputId": "ce94979d-570c-4a36-8a3f-2324bd60032e"
      },
      "source": [
        "model = tree.DecisionTreeClassifier()\n",
        "model = model.fit(inputTraining, labelTraining)\n",
        "hasilPrediksi = model.predict(inputTesting)\n",
        "print(\"label sebenarnya\", labelTesting)\n",
        "print(\"hasil prediksi\",hasilPrediksi)\n",
        "PrediksiBenar = (hasilPrediksi == labelTesting).sum()\n",
        "PrediksiSalah = (hasilPrediksi != labelTesting).sum()\n",
        "print(\"prediksi benar : \", PrediksiBenar, \"data\")\n",
        "print(\"prediksi salah : \", PrediksiSalah, \"data\")\n",
        "print(\"akurasi : \", PrediksiBenar/(PrediksiBenar+PrediksiSalah) *100, \"%\")"
      ],
      "execution_count": 19,
      "outputs": [
        {
          "output_type": "stream",
          "text": [
            "label sebenarnya [0 0 0 0 1 1 1 1 1 1 1 1 1 0 0 0 0 0 0 0]\n",
            "hasil prediksi [0 0 0 0 1 1 1 1 1 1 1 1 1 0 0 0 0 0 0 0]\n",
            "prediksi benar :  20 data\n",
            "prediksi salah :  0 data\n",
            "akurasi :  100.0 %\n"
          ],
          "name": "stdout"
        }
      ]
    }
  ]
}